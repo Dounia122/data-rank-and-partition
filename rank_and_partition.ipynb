{
 "cells": [
  {
   "cell_type": "markdown",
   "metadata": {},
   "source": [
    "# Rank and Partition\n",
    "\n",
    "The goal of this challenge is to use [Window Functions](https://mode.com/sql-tutorial/sql-window-functions/) like `RANK` or `SUM` with the `OVER` keyword.\n",
    "\n",
    "`OVER` clause can be used with:\n",
    "- `PARTITION BY` to select the scoped rows\n",
    "- `ORDER BY` to define the order of the rows in which the window function should be applied"
   ]
  },
  {
   "cell_type": "markdown",
   "metadata": {},
   "source": [
    "## Data\n",
    "We will work with the `ecommerce.sqlite` database available at this URL:\n",
    "`https://wagon-public-datasets.s3.amazonaws.com/sql_databases/ecommerce.sqlite`\n",
    "\n",
    "Run the cell below to download the file:"
   ]
  },
  {
   "cell_type": "code",
   "execution_count": null,
   "metadata": {},
   "outputs": [],
   "source": [
    "!curl https://wagon-public-datasets.s3.amazonaws.com/sql_databases/ecommerce.sqlite > data/ecommerce.sqlite"
   ]
  },
  {
   "cell_type": "markdown",
   "metadata": {},
   "source": [
    "## Database Discovery\n",
    "\n",
    "You already explored this database. Remember you can use the VS Code SQLite extension to explore the database (once you downloaded the database).\n",
    "\n",
    "- Hit `Ctrl-Shift-P` or `Cmd-Shift-P`\n",
    "- Start typing until you see `SQLite: Open Database`\n",
    "- `Enter`\n",
    "- Select the database file from the dropdown\n",
    "- In the bottom left corner, click on `SQLITE EXPLORER`"
   ]
  },
  {
   "cell_type": "markdown",
   "metadata": {},
   "source": [
    "## Setup\n",
    "\n",
    "Pandas and sqlite3 are all we need :-)"
   ]
  },
  {
   "cell_type": "code",
   "execution_count": null,
   "metadata": {},
   "outputs": [],
   "source": [
    "import pandas as pd\n",
    "from sqlite3 import connect"
   ]
  },
  {
   "cell_type": "markdown",
   "metadata": {},
   "source": [
    "## Order rank per customer\n",
    "\n",
    "👉 Write a SQL Query to rank the orders of each customer according to the order date.\n",
    "\n",
    "For each customer, the orders should be ranked in chronological order. Return `OrderID`, `CustomerID`, `OrderDate`, `OrderRank`."
   ]
  },
  {
   "cell_type": "code",
   "execution_count": null,
   "metadata": {},
   "outputs": [],
   "source": [
    "# Rank the orders of each customer according to the order date.\n",
    "# For each customer, the orders should be ranked in chronological order.\n",
    "# Return `OrderID`, `CustomerID`, `OrderDate`, `OrderRank`.\n",
    "query_order_rank_per_customer = \"\"\"\n",
    "    SELECT \"You have to write your query here\" AS TODO -- Replace this line by your SQL query\n",
    "\"\"\""
   ]
  },
  {
   "cell_type": "code",
   "execution_count": null,
   "metadata": {},
   "outputs": [],
   "source": [
    "with connect('data/ecommerce.sqlite') as conn:\n",
    "    df = pd.read_sql(\n",
    "        query_order_rank_per_customer,\n",
    "        con=conn\n",
    "    )\n",
    "df.head()"
   ]
  },
  {
   "cell_type": "markdown",
   "metadata": {},
   "source": [
    "When the result looks like expected, run the following cells to try and test your query."
   ]
  },
  {
   "cell_type": "code",
   "execution_count": null,
   "metadata": {},
   "outputs": [],
   "source": [
    "from nbresult import ChallengeResult\n",
    "result = ChallengeResult(\n",
    "    'order_rank_per_customer',\n",
    "    query=query_order_rank_per_customer\n",
    ")\n",
    "result.write(); print(result.check())"
   ]
  },
  {
   "cell_type": "markdown",
   "metadata": {},
   "source": [
    "## Order cumulative amount per customer\n",
    "\n",
    "👉 Write a SQL Query to compute the cumulative amount (in USD) of the orders of each customer according to the order date.\n",
    "\n",
    "For each customer, the orders should be ranked in chronological order. Return `OrderID`, `CustomerID`, `OrderDate`, `OrderCumulativeAmount`."
   ]
  },
  {
   "cell_type": "code",
   "execution_count": null,
   "metadata": {},
   "outputs": [],
   "source": [
    "# Return the cumulative amount (in USD) of the orders of each customer according to the order date.\n",
    "# For each customer, the orders should be ranked in chronological order.\n",
    "# Return `OrderID`, `CustomerID`, `OrderDate`, `OrderCumulativeAmount`.\n",
    "query_order_cumulative_amount_per_customer = \"\"\"\n",
    "    SELECT \"You have to write your query here\" AS TODO -- Replace this line by your SQL query\n",
    "\"\"\""
   ]
  },
  {
   "cell_type": "code",
   "execution_count": null,
   "metadata": {},
   "outputs": [],
   "source": [
    "with connect('data/ecommerce.sqlite') as conn:\n",
    "    df = pd.read_sql(\n",
    "        query_order_cumulative_amount_per_customer,\n",
    "        con=conn\n",
    "    )\n",
    "df.head()"
   ]
  },
  {
   "cell_type": "markdown",
   "metadata": {},
   "source": [
    "When the result looks like expected, run the following cells to try and test your query."
   ]
  },
  {
   "cell_type": "code",
   "execution_count": null,
   "metadata": {},
   "outputs": [],
   "source": [
    "from nbresult import ChallengeResult\n",
    "result = ChallengeResult(\n",
    "    'order_cumulative_amount_per_customer',\n",
    "    query=query_order_cumulative_amount_per_customer\n",
    ")\n",
    "result.write(); print(result.check())"
   ]
  },
  {
   "cell_type": "markdown",
   "metadata": {},
   "source": [
    "## Key learning points\n",
    "\n",
    "- Window functions allow you to compute data from different rows **without aggregating the rows**.\n",
    "- If you want to aggregate the rows, use `GROUP BY`.\n",
    "- If you don't, use `OVER` with `PARTITION BY` and `ORDER BY` instead."
   ]
  }
 ],
 "metadata": {
  "kernelspec": {
   "display_name": "Python 3",
   "language": "python",
   "name": "python3"
  }
 },
 "nbformat": 4,
 "nbformat_minor": 4
}
